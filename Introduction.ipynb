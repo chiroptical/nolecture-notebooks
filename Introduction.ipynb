{
  "cells": [
    {
      "cell_type": "markdown",
      "metadata": {},
      "source": [
        "Introduction of Python Through Jupyter!\n",
        "---"
      ]
    },
    {
      "cell_type": "markdown",
      "metadata": {},
      "source": [
        "Who Am I?\n",
        "---\n",
        "\n",
        "- Barry Moore II, PhD (bmooreii@pitt.edu)\n",
        "    - PhD from University at Buffalo in Theoretical Chemistry\n",
        "    - Twitter (random programming and personal stuff): @chiroptical\n",
        "    - GitHub (lots of Python): @chiroptical\n",
        "    - Website (random blog posts): https://chiroptical.dev\n",
        "    - Streaming Haskell: https://twitch.tv/chiroptical\n",
        "- Center for Research Computing\n",
        "    - Technical Director\n",
        "    - Advanced Research Computing Team at Pitt\n",
        "    - 10,200 compute cores\n",
        "    - 90 GPUs\n",
        "\n",
        "### Set Expectations\n",
        "\n",
        "- Started 8 years ago to solve problems in Theoretical Chemistry\n",
        "    - The point: I was a scientist similar to you\n",
        "    - It takes a long time to be okay at programming, even longer to be good\n",
        "    - Learned from doing it very wrong in a low level programming language\n",
        "- Python is a great language to start with\n",
        "    - It isn't terribly hard to be productive\n",
        "    - Doesn't mean it is easy!\n",
        "- Languages are tools!\n",
        "    - You learned how to use spreadsheets, you can do this!\n",
        "    - There are a lot of languages to choose from\n",
        "        - I always suggest using the one which people around you use!\n",
        "- You won't learn __any__ language in 3 hours!\n",
        "    - This workshop is meant to get you started."
      ]
    },
    {
      "cell_type": "markdown",
      "metadata": {},
      "source": [
        "Initial Steps\n",
        "---\n",
        "\n",
        "- In your browser navigate to https://hub.crc.pitt.edu\n",
        "- Click \"Start My Server\"\n",
        "- Under \"Select a job profile:\" choose \"Host Process\" and click \"Spawn\"\n",
        "- Get this notebook:\n",
        "    - First open up a Terminal via. `File` $\\rightarrow$ `New Launcher` $\\rightarrow$ `Terminal`\n",
        "    - `git clone https://github.com/chiroptical/nolecture-notebooks.git`"
      ]
    },
    {
      "cell_type": "markdown",
      "metadata": {},
      "source": [
        "What did I just connect to?\n",
        "---\n",
        "\n",
        "- __JupyterHub__:\n",
        "    - Multi-user server for Jupyter Notebooks\n",
        "- What is a Jupyter Notebook? (from https://jupyter-notebook.readthedocs.io/en/stable/notebook.html)\n",
        "> The notebook extends the console-based approach to interactive computing in a qualitatively new direction, providing a web-based application suitable for capturing the whole computation process: developing, documenting, and executing code, as well as communicating the results. The Jupyter notebook combines two components:\n",
        ">\n",
        "> __A web application__: a browser-based tool for interactive authoring of documents which combine explanatory text, mathematics, computations and their rich media output.\n",
        ">\n",
        "> __Notebook documents__: a representation of all content visible in the web application, including inputs and outputs of the computations, explanatory text, mathematics, images, and rich media representations of objects.\n",
        "\n",
        "    - Note: Jupyter Notebooks are not just for Python, but we are using them to learn Python\n",
        "        - We have kernels for R and Julia if you want to use them\n",
        "        - Other kernels exist, please ask me if you want to install them"
      ]
    },
    {
      "cell_type": "markdown",
      "metadata": {},
      "source": [
        "What is Python?\n",
        "---\n",
        "\n",
        "- Python is an interpreted programming language. This means that code you write is read by an _interpreter_ to convert your text into pre-compiled elementary functions which can be run by the computer\n",
        "    - This is opposed to compiled languages which are compiled directly to another language which can be run by the computer\n",
        "- There are two flavors of Python\n",
        "    - 2.7 (deprecated 2020)\n",
        "    - __3.7__\n",
        "        - We are using this now!"
      ]
    },
    {
      "cell_type": "markdown",
      "metadata": {},
      "source": [
        "Why Jupyter Notebooks and Python?\n",
        "---\n",
        "\n",
        "- Allows you to integrate code and documentation seamlessly\n",
        "- Allows you to share your Notebooks online (e.g. on github)\n",
        "- Allows you to explore and massage data on the fly\n",
        "    \n",
        "#### Let's Explore the User Interface\n",
        "\n",
        "- Drop down menus\n",
        "- Tool bar\n",
        "- Keystrokes"
      ]
    },
    {
      "cell_type": "markdown",
      "metadata": {},
      "source": [
        "Helper Syntax\n",
        "---\n",
        "\n",
        "In the Notebook, you will encounter some syntax you __must__ understand:\n",
        "\n",
        "1. `<Shift-Enter>`: This is a keystroke.\n",
        "    - Hold `Shift`, press `Enter`.\n",
        "    - Keystrokes will always start with a capital letter!\n",
        "2. `<var1> <operator> <var2>`: This is a pattern, I want you to fill it in!\n",
        "    - patterns will always start with a lowercase letter\n",
        "    - Given the above pattern, using the multiplication operator (`*`) one could multiply the variables `a` and `b` together in the following cell:"
      ]
    },
    {
      "cell_type": "code",
      "execution_count": null,
      "metadata": {},
      "outputs": [],
      "source": [
        "a = 1\n",
        "b = 2\n",
        "# pattern was `<var1> <operator> <var2>`\n",
        "a * b"
      ]
    },
    {
      "cell_type": "markdown",
      "metadata": {},
      "source": [
        "Note the omission of `<` and `>`! It is imperative you understand this."
      ]
    },
    {
      "cell_type": "markdown",
      "metadata": {},
      "source": [
        "Notebook Cells\n",
        "---\n",
        "\n",
        "Basically 2 types:\n",
        "\n",
        "1. Markdown:\n",
        "    - A simple language which converts to HTML\n",
        "    - Jupyter Docs: http://jupyter-notebook.readthedocs.io/en/latest/examples/Notebook/Working%20With%20Markdown%20Cells.html\n",
        "    - Use these to document your work\n",
        "    - Write equations using $\\LaTeX$: $ \\frac{1}{N}\\Sigma_i n_i $, or on it's own line:\n",
        "$$ \\frac{1}{N}\\Sigma_i n_i $$\n",
        "    - Write code: `x = 1`, or highlighted on it's own line:\n",
        "```python\n",
        "x = 1\n",
        "```\n",
        "2. Code:\n",
        "    - Where you write your code."
      ]
    },
    {
      "cell_type": "markdown",
      "metadata": {},
      "source": [
        "### Modes\n",
        "\n",
        "- The blue bar on the left represents the current cell focus\n",
        "- Two modes:\n",
        "    - Edit mode: blinking cursor, for typing documentation and code\n",
        "        - Press `<Esc>` to exit edit mode\n",
        "    - Command mode: no cursor, for commands\n",
        "        - Press `<Enter>` to enter edit mode on cell"
      ]
    },
    {
      "cell_type": "markdown",
      "metadata": {},
      "source": [
        "### How do you work with them:\n",
        "\n",
        "- In edit mode, run the following keystrokes on the next cell:\n",
        "    - `<Shift-Enter>`\n",
        "    - `<Ctrl-Enter>`"
      ]
    },
    {
      "cell_type": "code",
      "execution_count": null,
      "metadata": {},
      "outputs": [],
      "source": [
        "x = 1\n",
        "print(x)"
      ]
    },
    {
      "cell_type": "markdown",
      "metadata": {},
      "source": [
        "- In command mode:\n",
        "    - Move up, or down, cells using `<Up>` (`<Down>`)\n",
        "    - Enter edit mode on focused cell: `<Enter>`\n",
        "- In edit mode:\n",
        "    - Enter command mode with `<Esc>`\n",
        "- Creating cells:\n",
        "    - In command mode:\n",
        "        - Above current cell, press `a`\n",
        "        - Below current cell, press `b`\n",
        "- Converting between types:\n",
        "    - In command mode:\n",
        "        - convert to Markdown cell, press `m`\n",
        "        - convert to code cell, press `y`"
      ]
    },
    {
      "cell_type": "markdown",
      "metadata": {},
      "source": [
        "Active Learning\n",
        "---\n",
        "\n",
        "- Using a variant of Process Oriented Guided Inquiry Learning (POGIL) during this workshop\n",
        "- Every section will introduce a concept followed by some tasks to reinforce the section\n",
        "- Keep this quote in mind:\n",
        "> \"Mistakes are the portals to discovery\" - James Joyce\n",
        "\n",
        "    - __Python generates useful error messages, read them!__\n",
        "- Learn at your own pace\n",
        "- Struggle a little, but don't forget we are here to help!\n",
        "\n",
        "Let's look at an simple example:"
      ]
    },
    {
      "cell_type": "markdown",
      "metadata": {},
      "source": [
        "Addition in Python\n",
        "---\n",
        "\n",
        "The addition operator is `+` and is used to add two values\n",
        "\n",
        "- Syntax: `<value> <operator> <value>`\n",
        "- Example: `1 + 2`\n",
        "\n",
        "### Tasks\n",
        "\n",
        "1. Using the addition operator, add\n",
        "    - 2 and 3\n",
        "    - 4 and 5\n",
        "2. The multiplication operator is `*`, complete 1. with multiplication\n",
        "3. If I wrote `\"hello\" + \"world\"` what do you think would happen? Try it."
      ]
    },
    {
      "cell_type": "code",
      "execution_count": null,
      "metadata": {},
      "outputs": [],
      "source": []
    },
    {
      "cell_type": "code",
      "execution_count": null,
      "metadata": {},
      "outputs": [],
      "source": []
    },
    {
      "cell_type": "code",
      "execution_count": null,
      "metadata": {},
      "outputs": [],
      "source": []
    },
    {
      "cell_type": "code",
      "execution_count": null,
      "metadata": {},
      "outputs": [],
      "source": []
    },
    {
      "cell_type": "markdown",
      "metadata": {},
      "source": [
        "Python Syntax\n",
        "---"
      ]
    },
    {
      "cell_type": "markdown",
      "metadata": {},
      "source": [
        "### Comments\n",
        "\n",
        "- Lines beginning with `#` are completely ignored\n",
        "- Everything after `#` is ignored\n",
        "- Comments help increase the readability of code"
      ]
    },
    {
      "cell_type": "code",
      "execution_count": null,
      "metadata": {},
      "outputs": [],
      "source": [
        "# print(1)\n",
        "print(1) # this is ignored"
      ]
    },
    {
      "cell_type": "markdown",
      "metadata": {},
      "source": [
        "### Jupyter Tips\n",
        "\n",
        "- Comments can be separated into Markdown cells, but don't need to be\n",
        "- In edit mode on code cells:\n",
        "    - Try highlighting some code with your mouse and use `<Ctrl-/>` a few times\n",
        "        - This behavior is called \"toggling comments\""
      ]
    },
    {
      "cell_type": "markdown",
      "metadata": {},
      "source": [
        "### Whitespace\n",
        "\n",
        "In Python, unlike many programming languages, whitespace is important! Run the following cell:"
      ]
    },
    {
      "cell_type": "code",
      "execution_count": null,
      "metadata": {},
      "outputs": [],
      "source": [
        "print(\"hello\")\n",
        " print(\"world\")"
      ]
    },
    {
      "cell_type": "markdown",
      "metadata": {},
      "source": [
        "Oh, we are hit with an `IndentationError`. First, we should discuss the anatomy of an error message in Python\n",
        "\n",
        "### Anatomy of an Error\n",
        "\n",
        "```\n",
        "1.  File \"<ipython-input-1-2f431114b51f>\", line 2\n",
        "2.    print(\"world\")\n",
        "3.    ^\n",
        "4. IndentationError: unexpected indent\n",
        "```\n",
        "\n",
        "- Line 1:\n",
        "    - Summarizes where the error occurred in the cell\n",
        "    - The part in quotes is specific to Jupyter\n",
        "    - `line 2` suggests the error occurred on line 2 (relative to the top of the cell)\n",
        "- Line 2 & 3:\n",
        "    - Summarizes where the error occurred on the line\n",
        "    - The `^` is pointing the user to the `print` statement\n",
        "- Line 4:\n",
        "    - Summarizes what error occurred"
      ]
    },
    {
      "cell_type": "markdown",
      "metadata": {},
      "source": [
        "### Blocks\n",
        "\n",
        "Python is arranged into commonly indented _blocks_. The code above is properly written in one block as:"
      ]
    },
    {
      "cell_type": "code",
      "execution_count": null,
      "metadata": {},
      "outputs": [],
      "source": [
        "print(\"hello\")\n",
        "print(\"world\")"
      ]
    },
    {
      "cell_type": "markdown",
      "metadata": {},
      "source": [
        "Case Sensitivity\n",
        "---\n",
        "\n",
        "Python is case sensitive, i.e. you can __NOT__ do the following"
      ]
    },
    {
      "cell_type": "code",
      "execution_count": null,
      "metadata": {},
      "outputs": [],
      "source": [
        "Z = 1\n",
        "print(z)"
      ]
    },
    {
      "cell_type": "markdown",
      "metadata": {},
      "source": [
        "- You should get a `NameError` because `z` is not defined only `Z`!"
      ]
    },
    {
      "cell_type": "markdown",
      "metadata": {},
      "source": [
        "Variables\n",
        "---\n",
        "\n",
        "- Variables represent \"objects\" via unique \"names\"\n",
        "- Names represent a single object only\n",
        "    - The programmer is allowed to change the object a name represents\n",
        "- Variable and name are often used interchangably\n",
        "- Syntax: `<name> = <object>`\n",
        "    - The equal sign above is called the \"assignment operator\"\n",
        "- Example:"
      ]
    },
    {
      "cell_type": "code",
      "execution_count": null,
      "metadata": {},
      "outputs": [],
      "source": [
        "x = 1\n",
        "x"
      ]
    },
    {
      "cell_type": "markdown",
      "metadata": {},
      "source": [
        "- Above, `x` is a name and `1` is represented by an `int` object\n",
        "- `int` is the \"type\" of `x`\n",
        "\n",
        "Types\n",
        "---\n",
        "\n",
        "- Every object has a type, types:\n",
        "    - Allows Python to understand what can be done with, or to, an object\n",
        "    - Are dynamically assigned for you, e.g. `1` was automatically determined to be an `int`\n",
        "    - Can be determined with the following syntax: `type(<object>)`"
      ]
    },
    {
      "cell_type": "code",
      "execution_count": null,
      "metadata": {},
      "outputs": [],
      "source": [
        "x = 1\n",
        "type(x), type(1)"
      ]
    },
    {
      "cell_type": "markdown",
      "metadata": {},
      "source": [
        "Aside: Printing\n",
        "---\n",
        "\n",
        "There are many ways to print things in Python. I will show you 2:\n",
        "\n",
        "- Syntax: `print(<object-0>, <object-1>, ...)`"
      ]
    },
    {
      "cell_type": "code",
      "execution_count": null,
      "metadata": {},
      "outputs": [],
      "source": [
        "x = 1\n",
        "print(x)\n",
        "print(x, x)\n",
        "print(x, x, x)"
      ]
    },
    {
      "cell_type": "markdown",
      "metadata": {},
      "source": [
        "- Jupyter is specific and will only print the last line of the cell\n",
        "    - Syntax: `<object-0>, <object-1>, ...`\n",
        "    - Example below will only print one thing!\n",
        "    - Output will look a little different than using `print` directly"
      ]
    },
    {
      "cell_type": "code",
      "execution_count": null,
      "metadata": {},
      "outputs": [],
      "source": [
        "x = 1\n",
        "x\n",
        "x, x\n",
        "x, x, x"
      ]
    },
    {
      "cell_type": "markdown",
      "metadata": {},
      "source": [
        "#### Tasks:\n",
        "\n",
        "1. Define a variable named `x` equal to `1`, print `x` and the type of `x`\n",
        "    - Is `x` a name or an object?\n",
        "    - Is `1` a name or an object?\n",
        "2. Define a variable named `y` equal to `\"a\"` (including quotes!), print `y` and the type of `y`\n",
        "3. Define a variable named `z` equal to `1.0`, print `z` and the type of `z`\n",
        "4. Define a variable named `b` equal to `True`, print `b` and the type of `b`\n",
        "5. If you used the same `print` style for 1 - 4, try the other style with 4."
      ]
    },
    {
      "cell_type": "code",
      "execution_count": null,
      "metadata": {},
      "outputs": [],
      "source": []
    },
    {
      "cell_type": "code",
      "execution_count": null,
      "metadata": {},
      "outputs": [],
      "source": []
    },
    {
      "cell_type": "code",
      "execution_count": null,
      "metadata": {},
      "outputs": [],
      "source": []
    },
    {
      "cell_type": "code",
      "execution_count": null,
      "metadata": {},
      "outputs": [],
      "source": []
    },
    {
      "cell_type": "code",
      "execution_count": null,
      "metadata": {},
      "outputs": [],
      "source": []
    },
    {
      "cell_type": "markdown",
      "metadata": {},
      "source": [
        "Aside: Data Persistence\n",
        "---\n",
        "\n",
        "- Because you ran the cells above, the names can be accessed from anywhere in the notebook. Try printing the variable `b` from above. Is it the same?"
      ]
    },
    {
      "cell_type": "code",
      "execution_count": null,
      "metadata": {},
      "outputs": [],
      "source": []
    },
    {
      "cell_type": "markdown",
      "metadata": {},
      "source": [
        "- Understanding data persistence is key to using Jupyter Notebooks\n",
        "    - It is the main weakness of Notebooks\n",
        "    - If you know it is there you can strive to make notebooks shareable"
      ]
    },
    {
      "cell_type": "markdown",
      "metadata": {},
      "source": [
        "Operators\n",
        "---\n",
        "\n",
        "- Operators are syntax which represent an arithmetic or relation operation\n",
        "- A \"unary\" takes one input and the operator is in the prefix position\n",
        "    - Syntax: `<operator><object>`\n",
        "    - Examples: `-1` or `+1`\n",
        "- A \"binary\" operator takes 2 inputs and the operator is in the infix position\n",
        "    - Syntax: `<object-0> <operator> <object-1>`\n",
        "    - Examples: `1 + 1` or `1 - 1`\n",
        "- The binary arithmetic operators\n",
        "    - Addition (`+`), subtraction (`-`), multiplication (`*`), division (`/`)\n",
        "    - Floor division (`//`): quotient without fractional parts\n",
        "    - Modulus (`%`): Integer remainder of quotient\n",
        "    - Exponentiation (`**`)\n",
        "- Precedence\n",
        "    - The order of operations you expect from mathematics is obeyed\n",
        "        - Use parentheses to override the precedence\n",
        "\n",
        "#### Tasks:\n",
        "\n",
        "1. Run the definition cell below\n",
        "2. Use `+`, `-` unary operators on `a`\n",
        "3. Use `+`, `-`, `*`, `/` binary operators on combinations of:\n",
        "    - `a` with `a`\n",
        "    - `b` with `b`\n",
        "    - `a` with `b`\n",
        "4. Some of the binary operators yield results which are different from the input types, why do you think this is? "
      ]
    },
    {
      "cell_type": "code",
      "execution_count": null,
      "metadata": {},
      "outputs": [],
      "source": [
        "# Definitions\n",
        "a = 2.2\n",
        "b = 4"
      ]
    },
    {
      "cell_type": "code",
      "execution_count": null,
      "metadata": {},
      "outputs": [],
      "source": []
    },
    {
      "cell_type": "code",
      "execution_count": null,
      "metadata": {},
      "outputs": [],
      "source": []
    },
    {
      "cell_type": "code",
      "execution_count": null,
      "metadata": {},
      "outputs": [],
      "source": []
    },
    {
      "cell_type": "code",
      "execution_count": null,
      "metadata": {},
      "outputs": [],
      "source": []
    },
    {
      "cell_type": "code",
      "execution_count": null,
      "metadata": {},
      "outputs": [],
      "source": []
    },
    {
      "cell_type": "markdown",
      "metadata": {},
      "source": [
        "Aside: Syntactic Sugar\n",
        "---\n",
        "\n",
        "\"Syntactic sugar\" is a term for syntax which is easier to type but is translated to more verbose syntax, consider the following cell"
      ]
    },
    {
      "cell_type": "code",
      "execution_count": null,
      "metadata": {},
      "outputs": [],
      "source": [
        "a = a + 1"
      ]
    },
    {
      "cell_type": "markdown",
      "metadata": {},
      "source": [
        "This cell can be \"sugared\" using the `+=` addition-assignment operator, e.g."
      ]
    },
    {
      "cell_type": "code",
      "execution_count": null,
      "metadata": {},
      "outputs": [],
      "source": [
        "a += 1"
      ]
    },
    {
      "cell_type": "markdown",
      "metadata": {},
      "source": [
        "#### Tasks\n",
        "\n",
        "1. Run the definition cell\n",
        "2. Use the multiplication assignment operator to return the area of a cirle if `a` was the radius i.e. $ \\pi r^2$"
      ]
    },
    {
      "cell_type": "code",
      "execution_count": null,
      "metadata": {},
      "outputs": [],
      "source": [
        "# definitions\n",
        "a = 2.0\n",
        "pi = 3.14159"
      ]
    },
    {
      "cell_type": "code",
      "execution_count": null,
      "metadata": {},
      "outputs": [],
      "source": []
    },
    {
      "cell_type": "markdown",
      "metadata": {},
      "source": [
        "Comparison Operators\n",
        "---\n",
        "\n",
        "- Binary comparison operators return boolean values and are used to compare objects:\n",
        "    - `==`: is equal to\n",
        "    - `!=`: is not equal to\n",
        "    - `>`, `<`: greater, less than (respectively)\n",
        "    - `>=`, `<=`: greater, less than or equal to (respectively)\n",
        "\n",
        "#### Tasks\n",
        "\n",
        "Convert the textual representation of a comparison into code, example:\n",
        "\n",
        "- \"2 is less than or equal to 1\""
      ]
    },
    {
      "cell_type": "code",
      "execution_count": null,
      "metadata": {},
      "outputs": [],
      "source": [
        "2 <= 1"
      ]
    },
    {
      "cell_type": "markdown",
      "metadata": {},
      "source": [
        "- Convert the following text:\n",
        "    - 4 is not equal 3\n",
        "    - 25 is odd (hint: what's 25 % 2, how about 20 % 2)\n",
        "    - 16 is not odd\n",
        "    - 13 is not even\n",
        "    - 20 is between 10 and 30"
      ]
    },
    {
      "cell_type": "code",
      "execution_count": null,
      "metadata": {},
      "outputs": [],
      "source": []
    },
    {
      "cell_type": "code",
      "execution_count": null,
      "metadata": {},
      "outputs": [],
      "source": []
    },
    {
      "cell_type": "code",
      "execution_count": null,
      "metadata": {},
      "outputs": [],
      "source": []
    },
    {
      "cell_type": "code",
      "execution_count": null,
      "metadata": {},
      "outputs": [],
      "source": []
    },
    {
      "cell_type": "code",
      "execution_count": null,
      "metadata": {},
      "outputs": [],
      "source": []
    },
    {
      "cell_type": "markdown",
      "metadata": {},
      "source": [
        "Boolean Operators\n",
        "---\n",
        "\n",
        "- Booleans represents truth values, in Python use `True` or `False` (note capitals!)\n",
        "- A unary boolean operator `not`\n",
        "    - Syntax: `not <boolean>`\n",
        "- Two binary boolean operators `and`, `or`\n",
        "    - Syntax: `<boolean> <operator> <boolean>`\n",
        "\n",
        "#### Tasks\n",
        "\n",
        "1. We are going to do something a little different here. I gave you the syntax for the boolean operators and I would like you to tell me what they do. First, an example. Fill in the following statement: `not` is a unary operator which ...\n",
        "\n",
        "For this problem, we need the syntax for `not`, i.e. `not <boolean>`. We know there are two boolean values, i.e. `True` and `False`. Therefore, running the following cells should help me understand what `not` does."
      ]
    },
    {
      "cell_type": "code",
      "execution_count": null,
      "metadata": {},
      "outputs": [],
      "source": [
        "not True"
      ]
    },
    {
      "cell_type": "code",
      "execution_count": null,
      "metadata": {},
      "outputs": [],
      "source": [
        "not False"
      ]
    },
    {
      "cell_type": "markdown",
      "metadata": {},
      "source": [
        "Neat, the `not` keyword inverts a boolean expression. Given `True` it returns `False` and vice-versa. Filling in the statement now:\n",
        "\n",
        "`not` is a unary operator which takes a boolean value as input and inverts it.\n",
        "\n",
        "Now your turn, use `True` and `False` and the following operators\n",
        "\n",
        "- `and`\n",
        "- `or`\n",
        "\n",
        "To fill-in the following statements:\n",
        "    \n",
        "- `and` is a binary operator which <does what?>\n",
        "- `or` is a binary operator which <does what?>"
      ]
    },
    {
      "cell_type": "code",
      "execution_count": null,
      "metadata": {},
      "outputs": [],
      "source": []
    },
    {
      "cell_type": "code",
      "execution_count": null,
      "metadata": {},
      "outputs": [],
      "source": []
    },
    {
      "cell_type": "code",
      "execution_count": null,
      "metadata": {},
      "outputs": [],
      "source": []
    },
    {
      "cell_type": "code",
      "execution_count": null,
      "metadata": {},
      "outputs": [],
      "source": []
    },
    {
      "cell_type": "code",
      "execution_count": null,
      "metadata": {},
      "outputs": [],
      "source": []
    },
    {
      "cell_type": "code",
      "execution_count": null,
      "metadata": {},
      "outputs": [],
      "source": []
    },
    {
      "cell_type": "markdown",
      "metadata": {},
      "source": [
        "Boolean Operators Cont.\n",
        "---\n",
        "\n",
        "You now have some documentation for how the boolean operators work. Let's combine the boolean and comparison operators to make some comparisons!\n",
        "\n",
        "#### Tasks\n",
        "\n",
        "1. Evaluate the following expressions (without the interpreter!):\n",
        "    - `1 == 2 or 2 == 2`\n",
        "    - `1 == 2 and 2 == 2`\n",
        "    - `not 1 == 2 and 2 == 2`\n",
        "2. Enter the expressions and check your answers "
      ]
    },
    {
      "cell_type": "code",
      "execution_count": null,
      "metadata": {},
      "outputs": [],
      "source": []
    },
    {
      "cell_type": "code",
      "execution_count": null,
      "metadata": {},
      "outputs": [],
      "source": []
    },
    {
      "cell_type": "code",
      "execution_count": null,
      "metadata": {},
      "outputs": [],
      "source": []
    },
    {
      "cell_type": "markdown",
      "metadata": {},
      "source": [
        "Data Structures\n",
        "---\n",
        "\n",
        "- Data structures group values and the operations\n",
        "    - The operations could:\n",
        "        - Provide information about the data structure\n",
        "        - Modify the structure itself\n",
        "- One of the simplest data structures is a `tuple`\n",
        "- Tuples can contain many values in \"order\", but are \"immutable\"\n",
        "    - Syntax: `(<object>, <objects>...)`\n",
        "    - Example:"
      ]
    },
    {
      "cell_type": "code",
      "execution_count": null,
      "metadata": {},
      "outputs": [],
      "source": [
        "a_tuple = (10, 9, 8)"
      ]
    },
    {
      "cell_type": "markdown",
      "metadata": {},
      "source": [
        "Definitions\n",
        "---\n",
        "\n",
        "- \"Ordered\" means objects within the data structure be accessed by an \"index\", pictorally\n",
        "\n",
        "```\n",
        "tuple (10, 9, 8)\n",
        "        ^  ^  ^\n",
        "index   0  1  2\n",
        "```\n",
        "\n",
        "- To access index `n` from a data structure `c`, syntax: `c[n]`\n",
        "- Example:"
      ]
    },
    {
      "cell_type": "code",
      "execution_count": 1,
      "metadata": {},
      "outputs": [
        {
          "name": "stdout",
          "output_type": "stream",
          "text": [
            "3\n",
            "2\n",
            "1\n"
          ]
        }
      ],
      "source": [
        "example_tuple = (3, 2, 1)\n",
        "print(example_tuple[0])\n",
        "print(example_tuple[1])\n",
        "print(example_tuple[2])"
      ]
    },
    {
      "cell_type": "markdown",
      "metadata": {},
      "source": [
        "### Tasks\n",
        "\n",
        "1. Looking at the above `example_tuple`,\n",
        "    - What are the objects in the data structure?\n",
        "    - What are the indices?\n",
        "2. Using `a_tuple` from the definitions cell, try to extract `9` using the index"
      ]
    },
    {
      "cell_type": "code",
      "execution_count": null,
      "metadata": {},
      "outputs": [],
      "source": [
        "# definitions\n",
        "a_tuple = (10, 9, 8)"
      ]
    },
    {
      "cell_type": "code",
      "execution_count": null,
      "metadata": {},
      "outputs": [],
      "source": []
    },
    {
      "cell_type": "markdown",
      "metadata": {},
      "source": [
        "Definitions Cont.\n",
        "---\n",
        "\n",
        "- \"Immutable\" means the object can _NOT_ change, example:"
      ]
    },
    {
      "cell_type": "code",
      "execution_count": null,
      "metadata": {},
      "outputs": [],
      "source": [
        "a_tuple[0] = 12"
      ]
    },
    {
      "cell_type": "markdown",
      "metadata": {},
      "source": [
        "- You should have gotten a `TypeError` because this object cannot change\n",
        "- You can add items to tuples, but you need to reassign the name to a new object\n",
        "    - First, an example:"
      ]
    },
    {
      "cell_type": "code",
      "execution_count": null,
      "metadata": {},
      "outputs": [],
      "source": [
        "a_tuple = a_tuple + (7,)\n",
        "a_tuple"
      ]
    },
    {
      "cell_type": "markdown",
      "metadata": {},
      "source": [
        "### Breaking Down the Syntax\n",
        "\n",
        "```python\n",
        "a_tuple = a_tuple + (7,)\n",
        "```\n",
        "\n",
        "- `a_tuple` (right side of equals) resolves to the object `(10, 9, 8)`\n",
        "- `(7,)` is a new tuple object with one element (note: `(7)` would just be an integer and would fail)\n",
        "- The two objects on the right side can be added to form a new object `(10, 9, 8, 7)` and reassigned to the name `a_tuple` (left side of equals)\n",
        "\n",
        "### Back to Data Structures\n",
        "\n",
        "- Tuples aren't terribly flexible, but they might be perfectly acceptable depending on what you are doing\n",
        "- \"Sets\" are used to represent a unique group of things\n",
        "    - Syntax: `{<object>, <objects>, ...}`\n",
        "    - Example:"
      ]
    },
    {
      "cell_type": "code",
      "execution_count": null,
      "metadata": {},
      "outputs": [],
      "source": [
        "a_set = {4, 10, 8}\n",
        "a_set"
      ]
    },
    {
      "cell_type": "markdown",
      "metadata": {},
      "source": [
        "- Sets are \"mutable\" (can be changed) and \"unordered\" (can not be accessed via an index)\n",
        "    - To add elements, syntax: `a_set.add(<object>)`\n",
        "        - Sets are unique, can't add an element that already exists\n",
        "    - To remove elements, syntax: `a_set.remove(<object>)`\n",
        "        - Trying to remove an object which doesn't exist will fail\n",
        "- \"Lists\" are much more flexible than tuples or sets\n",
        "    - Syntax: `[<object>, <objects>, ...]`\n",
        "    - Example:"
      ]
    },
    {
      "cell_type": "code",
      "execution_count": null,
      "metadata": {},
      "outputs": [],
      "source": [
        "a_list = [3, 4, 5]\n",
        "a_list"
      ]
    },
    {
      "cell_type": "markdown",
      "metadata": {},
      "source": [
        "- Lists are mutable and ordered\n",
        "    - To add items, use `a_list.append(<object>)`\n",
        "    - To remove items,\n",
        "        - by index, `a_list.pop(<index>)`\n",
        "        - by object, `a_list.remove(<object>)`\n",
        "            - will only remove first occurrence if duplicate objects exist\n",
        "        \n",
        "### Aside: `append`\n",
        "\n",
        "Appending many items to a list can be extremely slow. If you know the size of the list before-hand it is best to preallocate the list and enter items, example:"
      ]
    },
    {
      "cell_type": "code",
      "execution_count": null,
      "metadata": {},
      "outputs": [],
      "source": [
        "num_items = 20\n",
        "empty_list = [None] * num_items\n",
        "# some command/s to insert many items\n",
        "empty_list"
      ]
    },
    {
      "cell_type": "markdown",
      "metadata": {},
      "source": [
        "### Task\n",
        "\n",
        "1. Could you preallocate a `tuple` object? Why or why not? \n",
        "\n",
        "### Back to Data Structures\n",
        "\n",
        "- The final data structure I will discuss is a \"dictionary\"\n",
        "- Dictionaries are mutable and unordered\n",
        "- Dictionaries are accessed using \"keys\", each key is associated with a \"value\"\n",
        "    - Syntax: `{<key0>: <value0>, <key1>: <value1>, ...}`\n",
        "        - Keys must be unique\n",
        "        - Values could be duplicates\n",
        "    - Example:"
      ]
    },
    {
      "cell_type": "code",
      "execution_count": null,
      "metadata": {},
      "outputs": [],
      "source": [
        "a_dict = {'a': 1, 'b': 2}\n",
        "a_dict"
      ]
    },
    {
      "cell_type": "markdown",
      "metadata": {},
      "source": [
        "- Above, the keys are `a` and `b` with values `1` and `2`\n",
        "\n",
        "### Data Structures: Utilities\n",
        "\n",
        "There are many functions which can operate on many containers. I will go over a few useful properties now.\n",
        "\n",
        "- Does the data structure contain a specific element?\n",
        "    - Syntax: `<object> in <container>`\n",
        "    - Examples:"
      ]
    },
    {
      "cell_type": "code",
      "execution_count": null,
      "metadata": {},
      "outputs": [],
      "source": [
        "# Reminder\n",
        "a_tuple, a_set, a_list, a_dict"
      ]
    },
    {
      "cell_type": "code",
      "execution_count": null,
      "metadata": {},
      "outputs": [],
      "source": [
        "9 in a_tuple"
      ]
    },
    {
      "cell_type": "code",
      "execution_count": null,
      "metadata": {},
      "outputs": [],
      "source": [
        "4 in a_set"
      ]
    },
    {
      "cell_type": "code",
      "execution_count": null,
      "metadata": {},
      "outputs": [],
      "source": [
        "5 in a_list"
      ]
    },
    {
      "cell_type": "code",
      "execution_count": null,
      "metadata": {},
      "outputs": [],
      "source": [
        "'a' in a_dict"
      ]
    },
    {
      "cell_type": "code",
      "execution_count": null,
      "metadata": {},
      "outputs": [],
      "source": [
        "1 in a_dict"
      ]
    },
    {
      "cell_type": "code",
      "execution_count": null,
      "metadata": {},
      "outputs": [],
      "source": [
        "1 in a_dict.values()"
      ]
    },
    {
      "cell_type": "markdown",
      "metadata": {},
      "source": [
        "- How many elements does the container have?\n",
        "    - Syntax: `len(<container>)`\n",
        "    - Examples:"
      ]
    },
    {
      "cell_type": "code",
      "execution_count": null,
      "metadata": {},
      "outputs": [],
      "source": [
        "len(a_tuple), len(a_set), len(a_list), len(a_dict)"
      ]
    },
    {
      "cell_type": "markdown",
      "metadata": {},
      "source": [
        "Loops\n",
        "---\n",
        "\n",
        "- \"Loops\" abstract away repetition \n",
        "\n",
        "### Motivation"
      ]
    },
    {
      "cell_type": "code",
      "execution_count": null,
      "metadata": {},
      "outputs": [],
      "source": [
        "a = [1, 2, 3, 4, 5]\n",
        "a"
      ]
    },
    {
      "cell_type": "markdown",
      "metadata": {},
      "source": [
        "Let's say I want to double every element in `a` to produce `b`, I could write:"
      ]
    },
    {
      "cell_type": "code",
      "execution_count": null,
      "metadata": {},
      "outputs": [],
      "source": [
        "b = []\n",
        "b.append(a[0] * 2)\n",
        "b.append(a[1] * 2)\n",
        "b.append(a[2] * 2)\n",
        "b.append(a[3] * 2)\n",
        "b.append(a[4] * 2)\n",
        "b"
      ]
    },
    {
      "cell_type": "markdown",
      "metadata": {},
      "source": [
        "- This repetition will become unbearable quickly. What if a list had thousands of entries?\n",
        "- __Important note before continuing: loops can be difficult for beginners__\n",
        "    - Reminders:\n",
        "        - Accessing elements of data structures via bracket syntax: `a_data_structure[an_index]`\n",
        "        - In Python, the indices of data structures start at 0\n",
        "\n",
        "### Loops Handle Repetitive Tasks\n",
        "\n",
        "- In the above problem, you want to abstract over the indices of `a`\n",
        "    - __What are the values of the indices of `a`?__\n",
        "        - Do not continue until you answer this question\n",
        "        - If you are unsure of your answer, ask me!"
      ]
    },
    {
      "cell_type": "markdown",
      "metadata": {},
      "source": [
        "- The `for` loop syntax:\n",
        "```python\n",
        "for <temporary> in <data_structure>:\n",
        "    <body>\n",
        "```\n",
        "- Example (same problem as above):"
      ]
    },
    {
      "cell_type": "code",
      "execution_count": null,
      "metadata": {},
      "outputs": [],
      "source": [
        "b = []\n",
        "for idx in [0, 1, 2, 3, 4]:\n",
        "    b.append(a[idx] * 2)"
      ]
    },
    {
      "cell_type": "markdown",
      "metadata": {},
      "source": [
        "### Breaking Down the Syntax\n",
        "\n",
        "- `idx` temporarily takes on each value \"in\" the list `[0, 1, 2, 3, 4]`\n",
        "- The \"body\" of the `for` loop multiplies `a[idx]` by 2 and `append`s the result to `b`\n",
        "    - `idx` will \"iterate\" through the body five times because `len([0, 1, 2, 3, 4])`\n",
        "    - In table form:\n",
        "    \n",
        "|Iteration|`idx`|`a[idx]`|`a[idx] * 2`|\n",
        "|---|---|---|---|\n",
        "|0|0|1|2|\n",
        "|1|1|2|4|\n",
        "|2|2|3|6|\n",
        "|3|3|4|8|\n",
        "|4|4|5|10|\n",
        "\n",
        "- The body is an indented block (by 4 spaces) which contains a procedure\n",
        "    - Most times, Jupyter will handle the spacing for you automatically\n",
        "    - Use `<Tab>` to indent right and `<Shift-Tab>` to indent left\""
      ]
    },
    {
      "cell_type": "markdown",
      "metadata": {},
      "source": [
        "Aside: `for` with `range`\n",
        "---\n",
        "\n",
        "- The `range` function will generate an \"iterable\" (think list, but we will discuss in detail later)\n",
        "- Syntax: `range(n)` where `n` is an integer\n",
        "- Example:\n",
        "    - The `list` function is used to show you what is inside a `range object"
      ]
    },
    {
      "cell_type": "code",
      "execution_count": 2,
      "metadata": {},
      "outputs": [
        {
          "data": {
            "text/plain": [
              "[0, 1, 2, 3, 4]"
            ]
          },
          "execution_count": 2,
          "metadata": {},
          "output_type": "execute_result"
        }
      ],
      "source": [
        "list(range(5))"
      ]
    },
    {
      "cell_type": "markdown",
      "metadata": {},
      "source": [
        "- `range` objects are often used to represent indices of object\n",
        "    - Rewriting the example above using `for` and `range`:"
      ]
    },
    {
      "cell_type": "code",
      "execution_count": 4,
      "metadata": {},
      "outputs": [
        {
          "data": {
            "text/plain": [
              "[2, 4, 6, 8, 10]"
            ]
          },
          "execution_count": 4,
          "metadata": {},
          "output_type": "execute_result"
        }
      ],
      "source": [
        "a = [1, 2, 3, 4, 5]\n",
        "b = []\n",
        "for idx in range(5):\n",
        "    b.append(a[idx] * 2)\n",
        "b"
      ]
    },
    {
      "cell_type": "markdown",
      "metadata": {},
      "source": [
        "- Awesome, but the `range(5)` isn't generic\n",
        "    - Using the `len` function on `a` we get the number of elements, i.e. 5\n",
        "- Example:"
      ]
    },
    {
      "cell_type": "code",
      "execution_count": 5,
      "metadata": {},
      "outputs": [
        {
          "data": {
            "text/plain": [
              "[2, 4, 6, 8, 10]"
            ]
          },
          "execution_count": 5,
          "metadata": {},
          "output_type": "execute_result"
        }
      ],
      "source": [
        "a = [1, 2, 3, 4, 5]\n",
        "b = []\n",
        "for idx in range(len(a)):\n",
        "    b.append(a[idx] * 2)\n",
        "b"
      ]
    },
    {
      "cell_type": "markdown",
      "metadata": {},
      "source": [
        "Tasks\n",
        "---\n",
        "\n",
        "1) Using a `for` loop with the `range` function generate `c` by doing the element-wise addition of `a` with `b`\n",
        "- Hints:\n",
        "    - You need the `append` function from the `list`s section\n",
        "    - `c` below should equal `[6, 8, 10, 12]`"
      ]
    },
    {
      "cell_type": "code",
      "execution_count": null,
      "metadata": {},
      "outputs": [],
      "source": [
        "# Definitions\n",
        "a = [1, 2, 3, 4]\n",
        "b = [5, 6, 7, 8]\n",
        "c = []"
      ]
    },
    {
      "cell_type": "code",
      "execution_count": null,
      "metadata": {},
      "outputs": [],
      "source": []
    },
    {
      "cell_type": "markdown",
      "metadata": {},
      "source": [
        "### Motivation for the next task\n",
        "\n",
        "Appending to lists is really slow! If you know the length of the list is is best to do the following.\n",
        "\n",
        "You can assign to values inside a list just like any other value. Try the following cell."
      ]
    },
    {
      "cell_type": "code",
      "execution_count": null,
      "metadata": {},
      "outputs": [],
      "source": [
        "c = [None, None]\n",
        "print(c)\n",
        "c[0] = 10\n",
        "c[1] = 20\n",
        "c"
      ]
    },
    {
      "cell_type": "markdown",
      "metadata": {},
      "source": [
        "2) Do \"1)\", but this time using a preallocated `c`\n",
        "- Hint: `c` below should equal `[6, 8, 10, 12]`"
      ]
    },
    {
      "cell_type": "code",
      "execution_count": null,
      "metadata": {},
      "outputs": [],
      "source": [
        "# Definitions\n",
        "a = [1, 2, 3, 4]\n",
        "b = [5, 6, 7, 8]\n",
        "c = [None] * len(a) # i.e. `[None] * 4` or `[None, None, None, None]` printed below for clarity\n",
        "c"
      ]
    },
    {
      "cell_type": "code",
      "execution_count": null,
      "metadata": {},
      "outputs": [],
      "source": []
    },
    {
      "cell_type": "markdown",
      "metadata": {},
      "source": [
        "Flow Control: `if`\n",
        "---\n",
        "\n",
        "- The keyword `if` takes a comparison, if the comparison is `True` the block will run\n",
        "- You can add the following to extend an `if`:\n",
        "    - `elif` means \"else if\" and provides additional comparisons to match\n",
        "    - `else` will run if none of the previous `if` or `elif`s match\n",
        "    - The first `True` comparison will be run, others will be ignored\n",
        "- Syntax:\n",
        "```python\n",
        "if <comparison0>:\n",
        "    # procedure if comparison0 True\n",
        "elif <comparison1>:\n",
        "    # procedure if comparison1 True\n",
        "else:\n",
        "    # procedure if neither comparison0 or comparison1 are True\n",
        "```  \n",
        "- Important notes\n",
        "    - `elif` and `else` not strictly necessary, but must start with `if`\n",
        "    - Any number of `elif`s can be used, but only one `else`\n",
        "    - `else` must be last\n",
        "    - Python won't warn you if\n",
        "        - You make the same comparisons multiple times\n",
        "        - Create an `if`, `elif`, or `else` which would never be `True`\n",
        "\n",
        "#### Tasks:\n",
        "\n",
        "1. Before running the code below, what do you think is printed?\n",
        "2. Run the code, what is the result? Why?"
      ]
    },
    {
      "cell_type": "code",
      "execution_count": null,
      "metadata": {},
      "outputs": [],
      "source": [
        "x = -12\n",
        "\n",
        "if x == 0:\n",
        "    print(x, \"is zero\")\n",
        "elif x > 0:\n",
        "    print(x, \"is negative\")\n",
        "elif x > 0:\n",
        "    print(x, \"is positive\")\n",
        "else:\n",
        "    print(\"I don't recognize\", x)"
      ]
    },
    {
      "cell_type": "markdown",
      "metadata": {},
      "source": [
        "Aside: Error versus Bug\n",
        "---\n",
        "\n",
        "- The code above runs, but doesn't produce the result we expect. This is known as a \"bug\".\n",
        "- An \"error\" will result in the code not running, e.g. `TypeError` and `IndentationError` which we saw before\n",
        "\n",
        "### Tasks Cont.\n",
        "\n",
        "1. Fix the bug in the code below\n",
        "2. Try different values for `x`\n",
        "3. Will the `else` block ever run?"
      ]
    },
    {
      "cell_type": "code",
      "execution_count": null,
      "metadata": {},
      "outputs": [],
      "source": [
        "x = -12\n",
        "\n",
        "if x == 0:\n",
        "    print(x, \"is zero\")\n",
        "elif x > 0:\n",
        "    print(x, \"is negative\")\n",
        "elif x > 0:\n",
        "    print(x, \"is positive\")\n",
        "else:\n",
        "    print(\"I don't recognize\", x)"
      ]
    },
    {
      "cell_type": "markdown",
      "metadata": {},
      "source": [
        "Functions\n",
        "---\n",
        "\n",
        "- A \"function\" is a procedure which takes input and produces output\n",
        "- Examples (which we saw earlier)\n",
        "    - `len` took a container and produced an integer (the number of elements)\n",
        "    - `range` took an integer and produced an \"iterable\" with that many elements in ascending order\n",
        "- Defining your own functions, syntax:\n",
        "\n",
        "```python\n",
        "def <function_name>(<input0>, <input1>, ...):\n",
        "    # Do something with input0 and input1 to product result\n",
        "    result = <input0> ... <input1>\n",
        "    return result\n",
        "```\n",
        "\n",
        "- Example, squaring an input:"
      ]
    },
    {
      "cell_type": "code",
      "execution_count": 1,
      "metadata": {},
      "outputs": [
        {
          "data": {
            "text/plain": [
              "4"
            ]
          },
          "execution_count": 1,
          "metadata": {},
          "output_type": "execute_result"
        }
      ],
      "source": [
        "def square(x):\n",
        "    return x * x\n",
        "\n",
        "square(2)"
      ]
    },
    {
      "cell_type": "markdown",
      "metadata": {},
      "source": [
        "### Breaking Down the Syntax:\n",
        "\n",
        "- `def` is the keyword to start a function definition\n",
        "- `square` is the name of the function\n",
        "- `return` passes back information to the caller of the function\n",
        "\n",
        "### Notes\n",
        "\n",
        "- Functions don't have to return anything (behind the scenes they return `None`)\n",
        "- When the interpreter evaluates a `return` it will ignore anything else in the function\n",
        "- Use meaningful function names to make your intention clear\n",
        "    - How helpful is the function if it was named `awesome_function`?\n",
        "- Function names should be lowercase and words separated by `_`\n",
        "    - This is true for variable names too\n",
        "    - You may also see `camelCase` (e.g. `awesome_function` -> `awesomeFunction`)\n",
        "        - Use this only if working on code which is already using this convention\n",
        "\n",
        "#### Tasks\n",
        "\n",
        "1. Verify that a function with multiple `return` statements only returns the first occurence\n",
        "2. Write the definition of a `cube` function\n",
        "3. Write the definition of the area for a circle given a radius\n",
        "    - $ A = \\pi r^2 $\n",
        "4. Write the definition of the `multiply` function"
      ]
    },
    {
      "cell_type": "code",
      "execution_count": null,
      "metadata": {},
      "outputs": [],
      "source": []
    },
    {
      "cell_type": "code",
      "execution_count": null,
      "metadata": {},
      "outputs": [],
      "source": []
    },
    {
      "cell_type": "code",
      "execution_count": null,
      "metadata": {},
      "outputs": [],
      "source": []
    },
    {
      "cell_type": "code",
      "execution_count": null,
      "metadata": {},
      "outputs": [],
      "source": []
    },
    {
      "cell_type": "code",
      "execution_count": null,
      "metadata": {},
      "outputs": [],
      "source": []
    },
    {
      "cell_type": "markdown",
      "metadata": {},
      "source": [
        "Aside: Data Descriptors and Methods\n",
        "---\n",
        "\n",
        "- Objects can have \"members\", they include:\n",
        "    - \"Data descriptors\" are simply variables\n",
        "    - \"Methods\" are functions, sometimes called \"member functions\"\n",
        "- Members of objects can be accessed via `.`\n",
        "- Syntax `<object>.<data_descriptor>` or `<object>.<method>(<args>)`\n",
        "- The `help` function can be used to access members"
      ]
    },
    {
      "cell_type": "code",
      "execution_count": null,
      "metadata": {},
      "outputs": [],
      "source": [
        "help(int)"
      ]
    },
    {
      "cell_type": "markdown",
      "metadata": {},
      "source": [
        "### Notes\n",
        "\n",
        "- Methods which look like `__<name>__` aren't meant to be called directly\n",
        "    - They are used by the interpreter to handle things like printing, adding, subtraction, etc.\n",
        "- When a method refers to `self` or `/`, it must be ignored when calling the method\n",
        "    - i.e. `bit_length` (below) doesn't take any arguments"
      ]
    },
    {
      "cell_type": "code",
      "execution_count": null,
      "metadata": {},
      "outputs": [],
      "source": [
        "help(int.bit_length)"
      ]
    },
    {
      "cell_type": "markdown",
      "metadata": {},
      "source": [
        "- Example"
      ]
    },
    {
      "cell_type": "code",
      "execution_count": null,
      "metadata": {},
      "outputs": [],
      "source": [
        "a = 1\n",
        "a.bit_length()"
      ]
    },
    {
      "cell_type": "markdown",
      "metadata": {},
      "source": [
        "### Tasks\n",
        "\n",
        "1. What are the data descriptors available for an integer?\n",
        "2. Check out the `help` for a `list`\n",
        "3. Given the definitions cell below, try to use one of the methods defined for `list` on `a`\n",
        "    - Preferably, one you haven't seen before!\n",
        "    - Feel free to try more than one"
      ]
    },
    {
      "cell_type": "code",
      "execution_count": null,
      "metadata": {},
      "outputs": [],
      "source": []
    },
    {
      "cell_type": "code",
      "execution_count": null,
      "metadata": {},
      "outputs": [],
      "source": [
        "# definitions\n",
        "a = [1, 2, 3]"
      ]
    },
    {
      "cell_type": "code",
      "execution_count": null,
      "metadata": {},
      "outputs": [],
      "source": []
    },
    {
      "cell_type": "code",
      "execution_count": null,
      "metadata": {},
      "outputs": [],
      "source": []
    },
    {
      "cell_type": "code",
      "execution_count": null,
      "metadata": {},
      "outputs": [],
      "source": []
    },
    {
      "cell_type": "markdown",
      "metadata": {},
      "source": [
        "Anonymous Functions\n",
        "---\n",
        "\n",
        "These functions are essentially syntactic sugar for simple functions. They can also be unnamed and used inside other functions (we will look at this later).\n",
        "\n",
        "- Syntax:\n",
        "\n",
        "```python\n",
        "lambda x: x * 2\n",
        "```\n",
        "\n",
        "- What do you think this function would do?\n",
        "\n",
        "### Break Down the Syntax\n",
        "\n",
        "- `lambda` starts the anonymous function\n",
        "- `x` names a single input, use `x, y` for multiple inputs\n",
        "- `:` seperates the inputs from the body\n",
        "- `x * 2` is the body of the function\n",
        "\n",
        "### Notes\n",
        "\n",
        "- We can \"desugar\" the above to:\n",
        "\n",
        "```python\n",
        "def double(x):\n",
        "    return x * 2\n",
        "```\n",
        "\n",
        "- Note when desugaring a name is required!\n",
        "    - You _can_ name anonymous functions if you like, e.g.\n",
        "\n",
        "```python\n",
        "double = lambda x: x * 2\n",
        "```\n",
        "\n",
        "- Examples:"
      ]
    },
    {
      "cell_type": "code",
      "execution_count": 2,
      "metadata": {},
      "outputs": [
        {
          "data": {
            "text/plain": [
              "8"
            ]
          },
          "execution_count": 2,
          "metadata": {},
          "output_type": "execute_result"
        }
      ],
      "source": [
        "cube = lambda x: x ** 3\n",
        "cube(2)"
      ]
    },
    {
      "cell_type": "code",
      "execution_count": 3,
      "metadata": {},
      "outputs": [
        {
          "data": {
            "text/plain": [
              "'hello!'"
            ]
          },
          "execution_count": 3,
          "metadata": {},
          "output_type": "execute_result"
        }
      ],
      "source": [
        "exclaim = lambda x: x + \"!\"\n",
        "exclaim(\"hello\")"
      ]
    },
    {
      "cell_type": "markdown",
      "metadata": {},
      "source": [
        "### Tips\n",
        "\n",
        "- Anonymous functions should only be used for simple functions, e.g. double, square, and exclaim\n",
        "- Anonymous functions are typically used as inputs for other functions (in detail later)\n",
        "    - Simple example:"
      ]
    },
    {
      "cell_type": "code",
      "execution_count": 8,
      "metadata": {},
      "outputs": [
        {
          "data": {
            "text/plain": [
              "4"
            ]
          },
          "execution_count": 8,
          "metadata": {},
          "output_type": "execute_result"
        }
      ],
      "source": [
        "def apply_unary_f(f, x):\n",
        "    return f(x)\n",
        "\n",
        "apply_unary_f(lambda x: x * 2, 2)"
      ]
    },
    {
      "cell_type": "markdown",
      "metadata": {},
      "source": [
        "#### Tasks\n",
        "\n",
        "1. Write an anonymous `addition` function\n",
        "2. Given the definition for `apply_unary_f` above, try to write `apply_binary_f`\n",
        "3. Use your `addition` and `apply_binary_f` to add 2 and 3"
      ]
    },
    {
      "cell_type": "code",
      "execution_count": null,
      "metadata": {},
      "outputs": [],
      "source": []
    },
    {
      "cell_type": "code",
      "execution_count": null,
      "metadata": {},
      "outputs": [],
      "source": []
    },
    {
      "cell_type": "code",
      "execution_count": null,
      "metadata": {},
      "outputs": [],
      "source": []
    },
    {
      "cell_type": "markdown",
      "metadata": {},
      "source": [
        "Iterable and Iterator\n",
        "---\n",
        "\n",
        "Previously, we looked at `for` loops with the `range` function and I told you `range` was an \"iterable\", but didn't explain further. An \"iterable\" is very similar to a list, e.g. you can access elements via the bracket syntax, but the behavior behind the scenes is different. A list contains every object in memory, but the `range` object only stores 3 data descriptors: `start`, `stop`, and `step`. Using the descriptors one doesn't need to store every element inside the range, it is simply calculated.\n",
        "\n",
        "Iterators are similar to iterables, but the operation behind the scenes is a bit different too. Iterators contain enough information to generate the next object in the series. The `next` function will get the next object in the series.\n",
        "\n",
        "- Example:"
      ]
    },
    {
      "cell_type": "code",
      "execution_count": null,
      "metadata": {},
      "outputs": [],
      "source": [
        "a = iter(range(2))\n",
        "next(a)"
      ]
    },
    {
      "cell_type": "code",
      "execution_count": null,
      "metadata": {},
      "outputs": [],
      "source": [
        "next(a)"
      ]
    },
    {
      "cell_type": "code",
      "execution_count": null,
      "metadata": {},
      "outputs": [],
      "source": [
        "next(a)"
      ]
    },
    {
      "cell_type": "markdown",
      "metadata": {},
      "source": [
        "### Notes\n",
        "\n",
        "- `range`s can be converted into iterators via the `iter` function\n",
        "- `a` is an iterator which can be thought of like `[0, 1]`\n",
        "- The first `next` \"consumes\" the `0` object from the iterator\n",
        "- The second `next` consumes the `1`\n",
        "- The third `next` fails with a `StopIteration` error because the iterator is empty!\n",
        "- Iterable objects (i.e. ranges) are not consumable"
      ]
    },
    {
      "cell_type": "markdown",
      "metadata": {},
      "source": [
        "Example Iterators\n",
        "---\n",
        "\n",
        "- I am going to show a lot of examples below. __Try to guess what is printed before running the examples!__\n",
        "    - Reading other people's code is a great way to learn\n",
        "\n",
        "### Enumerate\n",
        "\n",
        "- `enumerate`: packages each index with each element in a container\n",
        "- Example (without `enumerate`):"
      ]
    },
    {
      "cell_type": "code",
      "execution_count": null,
      "metadata": {},
      "outputs": [],
      "source": [
        "l = [1, 2, 3]\n",
        "for idx in range(len(l)):\n",
        "    print(idx, l[idx])"
      ]
    },
    {
      "cell_type": "markdown",
      "metadata": {},
      "source": [
        "- Example (\"packed\"):"
      ]
    },
    {
      "cell_type": "code",
      "execution_count": null,
      "metadata": {},
      "outputs": [],
      "source": [
        "m = [4, 5, 6]\n",
        "for i in enumerate(m):\n",
        "    print(i)"
      ]
    },
    {
      "cell_type": "markdown",
      "metadata": {},
      "source": [
        "### Notes\n",
        "\n",
        "- What is the type of each `i` above?\n",
        "- `tuple`s can be \"unpacked\", example:"
      ]
    },
    {
      "cell_type": "code",
      "execution_count": null,
      "metadata": {},
      "outputs": [],
      "source": [
        "a, b = (0, 1)\n",
        "print(a)\n",
        "print(b)"
      ]
    },
    {
      "cell_type": "markdown",
      "metadata": {},
      "source": [
        "- Coming back to the example and using the unpacking syntax"
      ]
    },
    {
      "cell_type": "code",
      "execution_count": null,
      "metadata": {},
      "outputs": [],
      "source": [
        "m = [4, 5, 6]\n",
        "for idx, i in enumerate(m):\n",
        "    print(idx, i)"
      ]
    },
    {
      "cell_type": "markdown",
      "metadata": {},
      "source": [
        "### Zip\n",
        "\n",
        "- `zip` packages multiple containers elementwise into tuples\n",
        "- Example (unpacking the tuples):"
      ]
    },
    {
      "cell_type": "code",
      "execution_count": null,
      "metadata": {},
      "outputs": [],
      "source": [
        "left = [1, 2, 3]\n",
        "right = [3, 2, 1]\n",
        "for l, r in zip(left, right):\n",
        "    print(l, r, l + r)"
      ]
    },
    {
      "cell_type": "markdown",
      "metadata": {},
      "source": [
        "### Notes\n",
        "\n",
        "- A zip will only create tuples if enough entries exist in both lists\n",
        "- How many lines with the cell below print (feel free to guess)?"
      ]
    },
    {
      "cell_type": "code",
      "execution_count": null,
      "metadata": {},
      "outputs": [],
      "source": [
        "a = [1, 2]\n",
        "b = [2]\n",
        "for x, y in zip(a, b):\n",
        "    print(x, y)"
      ]
    },
    {
      "cell_type": "markdown",
      "metadata": {},
      "source": [
        "- Because the `2` in `a` has no complement, it is ignored\n",
        "- Note you can combine more than 2 things! example:"
      ]
    },
    {
      "cell_type": "code",
      "execution_count": null,
      "metadata": {},
      "outputs": [],
      "source": [
        "a = [1, 2]\n",
        "b = [3, 4]\n",
        "c = [5, 6]\n",
        "for x, y, z in zip(a, b, c):\n",
        "    print(x, y, z)"
      ]
    },
    {
      "cell_type": "markdown",
      "metadata": {},
      "source": [
        "### Maps\n",
        "\n",
        "- `map` applies a function to each element in a container\n",
        "- Example:"
      ]
    },
    {
      "cell_type": "code",
      "execution_count": null,
      "metadata": {},
      "outputs": [],
      "source": [
        "a = [1, 2, 3]\n",
        "for x in map(lambda x: x * 2, a):\n",
        "    print(x)"
      ]
    },
    {
      "cell_type": "markdown",
      "metadata": {},
      "source": [
        "- Combined with a `zip`, remember `tuple`s are ordered!"
      ]
    },
    {
      "cell_type": "code",
      "execution_count": null,
      "metadata": {},
      "outputs": [],
      "source": [
        "a = [1, 2, 3]\n",
        "b = [6, 5, 4]\n",
        "for x in map(lambda t: t[0] + t[1], zip(a, b)):\n",
        "    print(x)"
      ]
    },
    {
      "cell_type": "markdown",
      "metadata": {},
      "source": [
        "### Filter\n",
        "\n",
        "- `filter` takes a function which returns a boolean, if the function returns `True` the element will be returned\n",
        "- Example:"
      ]
    },
    {
      "cell_type": "code",
      "execution_count": null,
      "metadata": {},
      "outputs": [],
      "source": [
        "for evens in filter(lambda x: x % 2 == 0, range(5)):\n",
        "    print(evens)"
      ]
    },
    {
      "cell_type": "markdown",
      "metadata": {},
      "source": [
        "### Tasks\n",
        "\n",
        "Going to use a range syntax you may have seen in mathematics class:\n",
        "\n",
        "- `[begin, end]` - means both begin and end are included\n",
        "- `(begin, end)` - means neither begin nor end are included\n",
        "\n",
        "\n",
        "1. Use `enumerate` and `range` (not `filter`) to print the index and value of even integers between [0, 10)\n",
        "2. Use `enumerate` and `zip` to sum `a` and `b` into `c` (definitions below)\n",
        "    - Hint: use `list(enumerate(zip(a, b)))` to see the shape of what to unpack\n",
        "3. Use `map` to print the squares of values in the range [0, 10) using only anonymous functions\n",
        "4. Use `filter` to print the cubes of even values in the range [0, 10) using only anonymous functions"
      ]
    },
    {
      "cell_type": "code",
      "execution_count": null,
      "metadata": {},
      "outputs": [],
      "source": []
    },
    {
      "cell_type": "code",
      "execution_count": null,
      "metadata": {},
      "outputs": [],
      "source": [
        "# definitions for \"2.\"\n",
        "a = [1, 2, 3]\n",
        "b = [3, 4, 5]\n",
        "c = [None] * 3"
      ]
    },
    {
      "cell_type": "code",
      "execution_count": null,
      "metadata": {},
      "outputs": [],
      "source": []
    },
    {
      "cell_type": "code",
      "execution_count": null,
      "metadata": {},
      "outputs": [],
      "source": []
    },
    {
      "cell_type": "code",
      "execution_count": null,
      "metadata": {},
      "outputs": [],
      "source": []
    },
    {
      "cell_type": "markdown",
      "metadata": {},
      "source": [
        "List Comprehensions\n",
        "---\n",
        "\n",
        "We have looked at a few examples of adding two lists element-wise, but there is actually some sugar which will help you out! Comprehensions are my favorite Python language constructs (yes, that's a thing!).\n",
        "\n",
        "- Syntax:\n",
        "```python\n",
        "[<body> for <temporary> in <container/iterable/iterator>]\n",
        "```\n",
        "- Example:"
      ]
    },
    {
      "cell_type": "code",
      "execution_count": null,
      "metadata": {},
      "outputs": [],
      "source": [
        "a = [1, 2, 3]\n",
        "b = [3, 2, 1]\n",
        "c = [x + y for x, y in zip(a, b)]\n",
        "c"
      ]
    },
    {
      "cell_type": "markdown",
      "metadata": {},
      "source": [
        "### Breaking Down the Syntax\n",
        "\n",
        "- `for x, y in zip(a, b)` should look familiar\n",
        "    - `x` and `y` are unpacked `tuple`s returned by the `zip` iterator\n",
        "- `x + y` is simply the body\n",
        "- Wrapping these up in brackets we have our comprehension\n",
        "\n",
        "### Notes\n",
        "\n",
        "- Comprehensions are great for simple operations, but don't get carried away\n",
        "    - Sometimes it is more readable to have a `for` loop\n",
        "- Another example with a filter clause:"
      ]
    },
    {
      "cell_type": "code",
      "execution_count": null,
      "metadata": {},
      "outputs": [],
      "source": [
        "a = [1, 2, 3]\n",
        "b = [3, 4, 5]\n",
        "c = [x + y for x, y in zip(a, b) if (x + y) % 2 == 0]\n",
        "c"
      ]
    },
    {
      "cell_type": "markdown",
      "metadata": {},
      "source": [
        "- This is very similar to the example above, but we added `if (x + y) % 2 == 0` to filter out only even results\n",
        "- Again, I want to emphasize that it is really easy for comprehensions to __decrease__ readability of code\n",
        "    - Unreadable code is also unmaintainable!"
      ]
    },
    {
      "cell_type": "markdown",
      "metadata": {},
      "source": [
        "### Dictionary Comprehensions\n",
        "\n",
        "- Similarly to list comprehensions, one can also do dictionary comprehensions!\n",
        "- Some examples:"
      ]
    },
    {
      "cell_type": "code",
      "execution_count": null,
      "metadata": {},
      "outputs": [],
      "source": [
        "d = {'one': 1, 'two': 2, 'three': 3}\n",
        "keys_become_values = {k: k for k in d}\n",
        "keys_become_values"
      ]
    },
    {
      "cell_type": "code",
      "execution_count": null,
      "metadata": {},
      "outputs": [],
      "source": [
        "d = {'one': 1, 'two': 2, 'three': 3}\n",
        "values_become_keys = {v: v for v in d.values()}\n",
        "values_become_keys"
      ]
    },
    {
      "cell_type": "code",
      "execution_count": null,
      "metadata": {},
      "outputs": [],
      "source": [
        "d = {'one': 1, 'two': 2, 'three': 3}\n",
        "values_doubled = {k: v * 2 for k, v in d.items()}\n",
        "values_doubled"
      ]
    },
    {
      "cell_type": "markdown",
      "metadata": {},
      "source": [
        "### Notes\n",
        "\n",
        "- One can add the filter clause to the end of a dictionary comprehension\n",
        "- The `<body>` of the dictionary comprehension must be a `<key>: <value>` pair\n",
        "- You can use dictionaries in list comprehensions, but the bodies must be values not key-value pairs"
      ]
    },
    {
      "cell_type": "markdown",
      "metadata": {},
      "source": [
        "### Tasks\n",
        "\n",
        "1. Given the definitions below,\n",
        "    - Make `my_even` from `my_dict` which only contains even values\n",
        "    - Make `my_odd_squared` from `my_dict` which contains squares of the odd values\n",
        "    - Build `favorite_songs_by` from `songs` (values) and `artists` (keys)\n",
        "    - Invert `favorite_songs_by`, i.e. keys become values, values become keys"
      ]
    },
    {
      "cell_type": "code",
      "execution_count": null,
      "metadata": {},
      "outputs": [],
      "source": [
        "# definitions\n",
        "my_dict = {'one': 1, 'two': 2, 'three': 3, 'four': 4}\n",
        "songs = [\"Tom Sawyer\", \"Money\", \"Simple Man\"]\n",
        "artists = [\"Rush\", \"Pink Floyd\", \"Lynyrd Skynyrd\"]"
      ]
    },
    {
      "cell_type": "code",
      "execution_count": null,
      "metadata": {},
      "outputs": [],
      "source": []
    },
    {
      "cell_type": "code",
      "execution_count": null,
      "metadata": {},
      "outputs": [],
      "source": []
    },
    {
      "cell_type": "code",
      "execution_count": null,
      "metadata": {},
      "outputs": [],
      "source": []
    },
    {
      "cell_type": "code",
      "execution_count": null,
      "metadata": {},
      "outputs": [],
      "source": []
    },
    {
      "cell_type": "markdown",
      "metadata": {},
      "source": [
        "Reading and Writing Files\n",
        "---\n",
        "\n",
        "- Opening files using the `with` syntax:\n",
        "\n",
        "```python\n",
        "with open(<file>, <mode>) as <name>:\n",
        "    # do something with name\n",
        "```\n",
        "\n",
        "### Breaking Down the Syntax:\n",
        "\n",
        "- `<file>` is the name of a file on the filesystem\n",
        "- `<mode>` can be:\n",
        "    - `\"r\"`: read\n",
        "    - `\"w\"`: write (overwrites contents)\n",
        "    - `\"a\"`: append\n",
        "- Write and append mode will create the file if it doesn't exist\n",
        "- `<name>` is how you will refer to the file in the body\n",
        "- Example (using `<file_object>.write`):"
      ]
    },
    {
      "cell_type": "code",
      "execution_count": null,
      "metadata": {},
      "outputs": [],
      "source": [
        "with open(\"hello.world.txt\", \"w\") as f:\n",
        "    f.write(\"Hello, World!\\n\")\n",
        "    f.write(\"Is there anybody in there?\\n\")"
      ]
    },
    {
      "cell_type": "markdown",
      "metadata": {},
      "source": [
        "- `\"\\n\"` represents the creation of a new line\n",
        "    - Try removing it and running the above code, what happened?\n",
        "- Example (using `<file_object>.writelines`)"
      ]
    },
    {
      "cell_type": "code",
      "execution_count": null,
      "metadata": {},
      "outputs": [],
      "source": [
        "with open(\"hello.world.txt\", \"a\") as f:\n",
        "    content = [\"Yes, it's me\\n\", \"Carmen Sandiego\\n\"]\n",
        "    f.writelines(content)"
      ]
    },
    {
      "cell_type": "markdown",
      "metadata": {},
      "source": [
        "### Tasks\n",
        "\n",
        "- Given the file `data.csv`,\n",
        "    - `open` can be used as an iterator to get to each line (feel free to use `with` syntax if you prefer it)\n",
        "    - `print` returns `None`\n",
        "        - Generates `[None, None, None, None]` at the end of the cell\n",
        "    - The type of `l` below is `str` or String"
      ]
    },
    {
      "cell_type": "code",
      "execution_count": null,
      "metadata": {},
      "outputs": [],
      "source": [
        "[print(l) for l in open(\"data.csv\", \"r\")]"
      ]
    },
    {
      "cell_type": "markdown",
      "metadata": {},
      "source": [
        "For each step, I suggest you save the intermediate values into variables\n",
        "\n",
        "1) Use a list comprehension to read \"data.csv\" into a list\n",
        "- Hint: use `<str>.strip()` to remove new line characters"
      ]
    },
    {
      "cell_type": "code",
      "execution_count": null,
      "metadata": {},
      "outputs": [],
      "source": []
    },
    {
      "cell_type": "markdown",
      "metadata": {},
      "source": [
        "2) Use another list comprehension to split the string into two values\n",
        "- Hint: `\"10,11\".split(',')` is `[\"10\", \"11\"]`"
      ]
    },
    {
      "cell_type": "code",
      "execution_count": null,
      "metadata": {},
      "outputs": [],
      "source": []
    },
    {
      "cell_type": "markdown",
      "metadata": {},
      "source": [
        "3) Use another list comprehension to convert the strings to integers\n",
        "- Hint: `int(\"10\")` will convert `\"10\"` to `10`"
      ]
    },
    {
      "cell_type": "code",
      "execution_count": null,
      "metadata": {},
      "outputs": [],
      "source": []
    },
    {
      "cell_type": "markdown",
      "metadata": {},
      "source": [
        "4) Add every pair of values together via a list comprehension"
      ]
    },
    {
      "cell_type": "code",
      "execution_count": null,
      "metadata": {},
      "outputs": [],
      "source": []
    },
    {
      "cell_type": "markdown",
      "metadata": {},
      "source": [
        "5) Write each sum, on individual lines, to a file named \"sums.csv\" using the `with` syntax\n",
        "- Hint: An integer can be converted to a string, example `str(1)` is `\"1\"`"
      ]
    },
    {
      "cell_type": "code",
      "execution_count": null,
      "metadata": {},
      "outputs": [],
      "source": []
    },
    {
      "cell_type": "markdown",
      "metadata": {},
      "source": [
        "Modules\n",
        "---\n",
        "\n",
        "There is a funny saying,\n",
        "\n",
        "> Python is the second best language for everything\n",
        "\n",
        "This turns out to be really helpful because there is a module for everything!\n",
        "\n",
        "### How do I find modules?\n",
        "\n",
        "- You will download most packages from PyPI, or the [Python Package Index](https://pypi.org/)\n",
        "- First, you will need to know what packages to get\n",
        "    - To find them, use Google. Search examples:\n",
        "        - \"Python Data Science Libraries\"\n",
        "        - \"Python Health Sciences Libraries\"\n",
        "    - Or, Google a specific problem\n",
        "        - \"Python how do I read CSV files?\"\n",
        "- I try to prefer built-in functions to external ones (when it makes sense)\n",
        "    - For example, there is a built in CSV reader in the library `csv` but the library `pandas` has a lot more functionality for data manipulation\n",
        "- Example, importing `csv`"
      ]
    },
    {
      "cell_type": "code",
      "execution_count": null,
      "metadata": {},
      "outputs": [],
      "source": [
        "import csv"
      ]
    },
    {
      "cell_type": "markdown",
      "metadata": {},
      "source": [
        "- Remember the `help` function?"
      ]
    },
    {
      "cell_type": "code",
      "execution_count": null,
      "metadata": {},
      "outputs": [],
      "source": [
        "help(csv)"
      ]
    },
    {
      "cell_type": "markdown",
      "metadata": {},
      "source": [
        "### Digesting `help`\n",
        "\n",
        "- That was a lot of information!\n",
        "    - `pandas` would be even more\n",
        "- To access the `reader` function (towards the end of help output), we would use:"
      ]
    },
    {
      "cell_type": "code",
      "execution_count": null,
      "metadata": {},
      "outputs": [],
      "source": [
        "csv.reader"
      ]
    },
    {
      "cell_type": "markdown",
      "metadata": {},
      "source": [
        "- If you only need the `reader` function:"
      ]
    },
    {
      "cell_type": "code",
      "execution_count": null,
      "metadata": {},
      "outputs": [],
      "source": [
        "from csv import reader\n",
        "reader == csv.reader # Are they the same?"
      ]
    },
    {
      "cell_type": "markdown",
      "metadata": {},
      "source": [
        "### Tips\n",
        "\n",
        "- I tend to only import the functions I need, but feel free to import the entire library\n",
        "- It is considered good style to import one function per line\n",
        "\n",
        "```python\n",
        "# considered poor style\n",
        "from csv import reader, writer\n",
        "# considered cleaner\n",
        "from csv import reader\n",
        "from csv import writer\n",
        "```\n",
        "\n",
        "- Sometimes, modules have a recommended way of importing them\n",
        "    - Example, `pandas`:"
      ]
    },
    {
      "cell_type": "code",
      "execution_count": null,
      "metadata": {},
      "outputs": [],
      "source": [
        "import pandas as pd"
      ]
    },
    {
      "cell_type": "markdown",
      "metadata": {},
      "source": [
        "- Now, you can access members via `pd.<member>`\n",
        "    - `pd` is called an \"alias\""
      ]
    },
    {
      "cell_type": "markdown",
      "metadata": {},
      "source": [
        "### Installing a Module\n",
        "\n",
        "- I have installed a lot of modules for you, but if you are missing one they must be installed via:\n",
        "        \n",
        "```python\n",
        "import sys\n",
        "!{sys.executable} -m pip install --user numpy\n",
        "```\n",
        "    \n",
        "- If you want to use the other kernels, please ask me\n",
        "- The `--user` flag is the secret sauce, without it you will get a permission denied error"
      ]
    },
    {
      "cell_type": "markdown",
      "metadata": {},
      "source": [
        "Project: Population Analysis\n",
        "---\n",
        "\n",
        "Given the US Census information for 2016 and 2017 for each state (including DC and Puerto Rico) in CSV format. Use Python to determine:\n",
        "\n",
        "1. The average population for 2016 and 2017\n",
        "2. The state with the largest and smallest population\n",
        "\n",
        "### Why this problem?\n",
        "\n",
        "Yes, this is a relatively simple problem but it brings together a lot of what you learned today. Most importantly, you will need to determine an appropriate data structure to store the information. Knowing which data structure to use is the most important decision when analyzing data. An example, if you were given a person's full name and needed to find their phone number what would you use? Likely, you said phone book. Would you use a phone book if you were given someone's phone number?\n",
        "\n",
        "Most of the problems you will deal with are simply reading data files, doing some processing, and then spitting out some statistical result. Python is fantastic for this.\n",
        "\n",
        "### Tasks\n",
        "\n",
        "1. Open the data file \"states.csv\" using the `with` syntax\n",
        "    - Note: this is a proper CSV file which means it has a header on line 0\n",
        "2. Read the first line, there are 3 columns separated by commas\n",
        "    - Hint: print this line and think about how you want to store your data!\n",
        "3. Use a `for` loop to read the remaining lines and parse them into your data structure\n",
        "    - Hint: the function `int` can convert a string to an integer\n",
        "4. Generate the following information\n",
        "    - Average population for 2016 and 2017\n",
        "    - State with the largest population\n",
        "    - State with the smallest population\n",
        "        - Hints:\n",
        "            - `min`, `max`, and `sum` are built-in functions which operate on lists, test them\n",
        "            - A `mean` function exists, inside the `statistics` module, which operates similarly to the above functions\n",
        "            - Lists have an `index(<object>)` method to find a particular object's index\n",
        "5. Was the data structure you chose optimal? Could you rearrange it and make your life easier?"
      ]
    },
    {
      "cell_type": "code",
      "execution_count": null,
      "metadata": {},
      "outputs": [],
      "source": []
    },
    {
      "cell_type": "code",
      "execution_count": null,
      "metadata": {},
      "outputs": [],
      "source": []
    },
    {
      "cell_type": "code",
      "execution_count": null,
      "metadata": {},
      "outputs": [],
      "source": []
    },
    {
      "cell_type": "code",
      "execution_count": null,
      "metadata": {},
      "outputs": [],
      "source": []
    },
    {
      "cell_type": "code",
      "execution_count": null,
      "metadata": {},
      "outputs": [],
      "source": []
    },
    {
      "cell_type": "code",
      "execution_count": null,
      "metadata": {},
      "outputs": [],
      "source": []
    },
    {
      "cell_type": "code",
      "execution_count": null,
      "metadata": {},
      "outputs": [],
      "source": []
    },
    {
      "cell_type": "markdown",
      "metadata": {},
      "source": [
        "Additional Resources\n",
        "---\n",
        "\n",
        "1. Me! Don't hesitate to email me (bmooreii@pitt.edu) and we can make an appointment\n",
        "2. If you want to install Python and Jupyter on your own machine\n",
        "    - Check out [Anaconda](https://www.anaconda.com/download)\n",
        "        - It is easy to install and includes Jupyter\n",
        "3. This workshop is loosely modeled after [World Wind Tour](http://nbviewer.jupyter.org/github/jakevdp/WhirlwindTourOfPython/blob/master/Index.ipynb)\n",
        "4. [Stack Overflow](https://stackoverflow.com). If you \"Google it\" it will probably come from Stack Overlow.\n",
        "    - Pro tip, search for: `python <search phrase>`\n",
        "    - As you get better you will easily be able to filter good answers from poor ones\n",
        "\n",
        "#### [Python Documentation](https://docs.python.org/3/library/index.html)\n",
        "\n",
        "#### [Python Built-in Functions](https://docs.python.org/3/library/functions.html)\n",
        "\n",
        "#### Notable Python Libraries\n",
        "\n",
        "1. [docopt](http://docopt.org) - command line arguments (not helpful in a Jupyter Notebook)\n",
        "2. [pandas](http://pandas.pydata.org) - great for processing data\n",
        "3. [matplotlib](https://matplotlib.org) - plotting tool, can view inside Jupyter Notebooks!\n",
        "4. [requests](http://docs.python-requests.org/en/master) - HTTP Requests\n",
        "5. [numba](https://numba.pydata.org) - just-in-time compilation for Python (make your code run faster)\n",
        "6. [subprocess](https://docs.python.org/3/library/subprocess.html) - run external commands\n",
        "7. [numpy](https://docs.scipy.org/doc/numpy/dev/) - great array package for doing math\n",
        "8. [sympy](https://docs.sympy.org/latest/index.html) - symbolic math\n",
        "9. [scikit-learn](http://scikit-learn.org/stable/documentation.html) - machine learning package\n",
        "10. [dataset](https://dataset.readthedocs.io/en/latest/) - deal with SQL databases as if they were dictionaries\n",
        "\n",
        "#### Useful Books\n",
        "\n",
        "- [Python Data Science Handbook](https://jakevdp.github.io/PythonDataScienceHandbook/) - Free! If you don't mind reading online\n",
        "- [Hands on Machine Learning with Scikit-learn and Tensorflow](https://www.amazon.com/Hands-Machine-Learning-Scikit-Learn-TensorFlow/dp/1491962291) - Great for machine learning and data science\n",
        "    - I own this book if you want to borrow it"
      ]
    },
    {
      "cell_type": "markdown",
      "metadata": {},
      "source": [
        "Quick Survey\n",
        "---\n",
        "\n",
        "- `<Ctrl-Enter>` the following cell"
      ]
    },
    {
      "cell_type": "code",
      "execution_count": null,
      "metadata": {},
      "outputs": [],
      "source": [
        "from IPython.display import IFrame\n",
        "IFrame(\"https://forms.gle/N3h1vUYWneHs9Rkf8\", width=760, height=500)"
      ]
    }
  ],
  "metadata": {
    "kernelspec": {
      "display_name": "Python 3",
      "language": "python",
      "name": "python3"
    },
    "language_info": {
      "codemirror_mode": {
        "name": "ipython",
        "version": 3
      },
      "file_extension": ".py",
      "mimetype": "text/x-python",
      "name": "python",
      "nbconvert_exporter": "python",
      "pygments_lexer": "ipython3",
      "version": "3.6.6"
    }
  },
  "nbformat": 4,
  "nbformat_minor": 2
}
